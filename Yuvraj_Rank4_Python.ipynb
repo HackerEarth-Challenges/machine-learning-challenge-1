{
 "cells": [
  {
   "cell_type": "code",
   "execution_count": null,
   "metadata": {
    "collapsed": true,
    "deletable": true,
    "editable": true
   },
   "outputs": [],
   "source": [
    "import pandas as pd\n",
    "import numpy as np\n",
    "from sklearn import *\n",
    "import xgboost as xgb\n",
    "import re"
   ]
  },
  {
   "cell_type": "code",
   "execution_count": 2,
   "metadata": {
    "collapsed": true,
    "deletable": true,
    "editable": true
   },
   "outputs": [],
   "source": [
    "train=pd.read_csv('/home/manish/Desktop/Data2017/February/lending/train_indessa.csv')\n",
    "test=pd.read_csv('/home/manish/Desktop/Data2017/February/lending/test_indessa.csv')"
   ]
  },
  {
   "cell_type": "code",
   "execution_count": 3,
   "metadata": {
    "collapsed": false,
    "deletable": true,
    "editable": true
   },
   "outputs": [],
   "source": [
    "params={\"objective\":\"binary:logistic\",     \n",
    "    \"learning_rate\":0.1,\n",
    "    \"subsample\":0.8,\n",
    "    \"colsample_bytree\": 0.8,\n",
    "        'eval_metric':'auc',\n",
    "    \"max_depth\":6,\n",
    "    'silent':1,\n",
    "    'nthread':3,\n",
    "#     'num_class':2\n",
    "        \n",
    "       }"
   ]
  },
  {
   "cell_type": "code",
   "execution_count": 4,
   "metadata": {
    "collapsed": false,
    "deletable": true,
    "editable": true
   },
   "outputs": [],
   "source": [
    "params_lgb = {\n",
    "    'task': 'train',\n",
    "    'boosting_type': 'gbdt',\n",
    "    'application': 'binary',\n",
    "    'metric':'auc',\n",
    "    'num_leaves': 128,\n",
    "    'learning_rate': 0.01,\n",
    "    'feature_fraction': 0.9,\n",
    "    'bagging_fraction': 0.8,\n",
    "    'bagging_freq': 5,\n",
    "    'num_threads':3,\n",
    "    'max_bin':500,\n",
    "    'verbose': -1\n",
    "}"
   ]
  },
  {
   "cell_type": "code",
   "execution_count": 5,
   "metadata": {
    "collapsed": true,
    "deletable": true,
    "editable": true
   },
   "outputs": [],
   "source": [
    "def last_week(string):\n",
    "    string =re.findall('\\d+',string )\n",
    "    if len(string)==0:\n",
    "        return -1\n",
    "    return int(string[0])"
   ]
  },
  {
   "cell_type": "code",
   "execution_count": 6,
   "metadata": {
    "collapsed": false,
    "deletable": true,
    "editable": true
   },
   "outputs": [],
   "source": [
    "data=train.append(test)\n",
    "data.reset_index(drop=1,inplace=1)"
   ]
  },
  {
   "cell_type": "code",
   "execution_count": 7,
   "metadata": {
    "collapsed": false,
    "deletable": true,
    "editable": true,
    "scrolled": true
   },
   "outputs": [],
   "source": [
    "data.last_week_pay=data.last_week_pay.apply(lambda x:last_week(x) )\n"
   ]
  },
  {
   "cell_type": "code",
   "execution_count": 8,
   "metadata": {
    "collapsed": true,
    "deletable": true,
    "editable": true
   },
   "outputs": [],
   "source": [
    "data.loc[data.term=='36 months','term']=36*4\n",
    "data.loc[data.term=='60 months','term']=60*4"
   ]
  },
  {
   "cell_type": "code",
   "execution_count": 9,
   "metadata": {
    "collapsed": false,
    "deletable": true,
    "editable": true
   },
   "outputs": [
    {
     "data": {
      "text/plain": [
       "0    144\n",
       "1    144\n",
       "2    144\n",
       "3    144\n",
       "4    144\n",
       "Name: term, dtype: object"
      ]
     },
     "execution_count": 9,
     "metadata": {},
     "output_type": "execute_result"
    }
   ],
   "source": [
    "data.term.head()"
   ]
  },
  {
   "cell_type": "code",
   "execution_count": 10,
   "metadata": {
    "collapsed": false,
    "deletable": true,
    "editable": true,
    "scrolled": true
   },
   "outputs": [],
   "source": [
    "data['week_left']=data.last_week_pay/data.term\n",
    "\n",
    "data['same_bank']=0\n",
    "data.loc[data.loan_amnt!=data.funded_amnt,'same_bank']=1\n",
    "\n",
    "\n",
    "data['same_investor']=0\n",
    "data.loc[data.loan_amnt!=data.funded_amnt_inv,'same_investor']=1\n",
    "\n",
    "data['total_loan']=data.funded_amnt*(data.int_rate/100)*3+data.funded_amnt\n",
    "data.loc[data.term==240,'total_loan']=data.funded_amnt*(data.int_rate/100)*5+data.funded_amnt\n",
    "\n",
    "data['loan_left']=(data.total_loan*(data.last_week_pay/data.term)+data.total_rec_int)/data.total_loan\n",
    "\n",
    "\n",
    "data['inc_loan_ratio']=data.funded_amnt/data.annual_inc\n",
    "\n",
    "\n",
    "data['monthly_loan']=(data.dti/100)*(data.annual_inc/12)\n",
    "data['loan_total']=(data.dti/100)*(data.annual_inc/12)*data.term\n",
    "\n",
    "data['loan_to_income']=(data.monthly_loan*12)/data.annual_inc\n",
    "\n",
    "\n",
    "data['interest_month']=data.total_rec_int/data.last_week_pay\n",
    "data.interest_month.replace(np.inf,-1,inplace=1)\n",
    "\n",
    "\n",
    "data['tot_rec_int_ratio']=data.total_rec_int/(data.funded_amnt*(data.int_rate/100)*3)\n",
    "\n",
    "\n",
    "data.loc[data.term==240,'tot_rec_int_ratio']=data.total_rec_int/(data.funded_amnt*(data.int_rate/100)*5)\n",
    "\n",
    "\n",
    "data['left_interest']=1-data.tot_rec_int_ratio\n",
    "\n",
    "\n",
    "data.total_rev_hi_lim=data.revol_bal/(data.revol_util/100)\n",
    "data.total_rev_hi_lim.replace(np.inf,-1,inplace=1)\n",
    "\n",
    "\n",
    "df_temp=data.groupby('batch_enrolled').agg({'loan_amnt':\n",
    "                                            'mean'}).rename(columns={'loan_amnt':'batch_mean'}).reset_index()\n",
    "data=pd.merge(data,df_temp,on='batch_enrolled',how='left')\n",
    "\n",
    "df_temp=data.groupby('sub_grade').agg({'loan_amnt':\n",
    "                                            'mean'}).rename(columns={'loan_amnt':'sg_mean'}).reset_index()\n",
    "data=pd.merge(data,df_temp,on='sub_grade',how='left')"
   ]
  },
  {
   "cell_type": "code",
   "execution_count": 11,
   "metadata": {
    "collapsed": false,
    "deletable": true,
    "editable": true
   },
   "outputs": [],
   "source": [
    "df_temp=pd.get_dummies(data['grade'],prefix='grade')\n",
    "for col in df_temp.columns:\n",
    "    data[col]=df_temp[col]\n",
    "    \n",
    "df_temp=pd.get_dummies(data['sub_grade'],prefix='sub_grade')\n",
    "for col in df_temp.columns:\n",
    "    data[col]=df_temp[col]"
   ]
  },
  {
   "cell_type": "code",
   "execution_count": 12,
   "metadata": {
    "collapsed": true,
    "deletable": true,
    "editable": true
   },
   "outputs": [],
   "source": [
    "features=list(set(data.columns)-set(['emp_title','desc','title','verification_status_joint','loan_status',\n",
    "                                     'member_id','total_loan','loan_left','loan_total'\n",
    "                                     ]))"
   ]
  },
  {
   "cell_type": "code",
   "execution_count": 15,
   "metadata": {
    "collapsed": false,
    "deletable": true,
    "editable": true
   },
   "outputs": [],
   "source": [
    "for col in features:\n",
    "    lr=preprocessing.LabelEncoder()\n",
    "    if data[col].dtype=='O':\n",
    "        data[col].replace(np.nan,'AA',inplace=1)\n",
    "        lr.fit(data[col])\n",
    "        data[col]=lr.transform(data[col])\n",
    "    data[col].replace(np.nan,-1,inplace=1)\n",
    "    data[col].replace(np.inf,-1,inplace=1)"
   ]
  },
  {
   "cell_type": "code",
   "execution_count": 16,
   "metadata": {
    "collapsed": false,
    "deletable": true,
    "editable": true
   },
   "outputs": [],
   "source": [
    "df_temp=data.groupby('batch_enrolled').agg({'last_week_pay':\n",
    "                                             'value_counts'}).rename(columns={'last_week_pay':\n",
    "                                                                              'week_counts'}).reset_index()\n",
    "\n",
    "df_temp_1=df_temp.groupby('batch_enrolled').agg({'week_counts':'sum'}).rename(columns={'week_counts':\n",
    "                                                                              'week_sum'}).reset_index()\n",
    "\n",
    "df_temp=pd.merge(df_temp,df_temp_1,on='batch_enrolled',how='left')\n",
    "\n",
    "df_temp.week_counts=df_temp.week_counts/df_temp.week_sum\n",
    "\n",
    "data=pd.merge(data,df_temp[['batch_enrolled','last_week_pay','week_counts']],on=['batch_enrolled','last_week_pay'],\n",
    "              how='left')\n"
   ]
  },
  {
   "cell_type": "code",
   "execution_count": 17,
   "metadata": {
    "collapsed": false,
    "deletable": true,
    "editable": true
   },
   "outputs": [],
   "source": [
    "df_temp=data.last_week_pay.value_counts().reset_index().rename(columns={'last_week_pay':'week_ratio'})\n",
    "df_temp.week_ratio=df_temp.week_ratio/df_temp.week_ratio.sum()"
   ]
  },
  {
   "cell_type": "code",
   "execution_count": 18,
   "metadata": {
    "collapsed": true,
    "deletable": true,
    "editable": true
   },
   "outputs": [],
   "source": [
    "data['week_counts_remain']=1-data.week_counts"
   ]
  },
  {
   "cell_type": "code",
   "execution_count": null,
   "metadata": {
    "collapsed": true,
    "deletable": true,
    "editable": true
   },
   "outputs": [],
   "source": [
    "train=data[~(data.loan_status.isnull())]\n",
    "test=data[data.loan_status.isnull()]\n",
    "test.drop('loan_status',axis=1,inplace=1)"
   ]
  },
  {
   "cell_type": "code",
   "execution_count": 20,
   "metadata": {
    "collapsed": true,
    "deletable": true,
    "editable": true
   },
   "outputs": [],
   "source": [
    "df_temp=train.groupby('last_week_pay').agg({'loan_status':\n",
    "                                            'mean'}).rename(columns={'loan_status':'fraction_default'}).reset_index()\n",
    "train=pd.merge(train,df_temp,on='last_week_pay',how='left')\n",
    "test=pd.merge(test,df_temp,on='last_week_pay',how='left')"
   ]
  },
  {
   "cell_type": "code",
   "execution_count": 21,
   "metadata": {
    "collapsed": true,
    "deletable": true,
    "editable": true
   },
   "outputs": [],
   "source": [
    "features=list(set(train.columns)-set(['emp_title','desc','title','verification_status_joint','loan_status',\n",
    "\n",
    "                                      'member_id','total_loan','batch_enrolled','loan_total','week_counts_remain',\n",
    "                                      'tot_rec_int_ratio','interest_month','monthly_loan','inc_loan_ratio',\n",
    "                                      'initial_list_status','loan_left','zip_code','pymnt_plan','tot_coll_amt','application_type'\n",
    "                                      ,'funded_amnt_inv','purpose','delinq_2yrs','inq_last_6mths'\n",
    "                                     ]))"
   ]
  },
  {
   "cell_type": "code",
   "execution_count": 22,
   "metadata": {
    "collapsed": true,
    "deletable": true,
    "editable": true
   },
   "outputs": [],
   "source": [
    "total_index=train[train.loan_status==0].index\n",
    "\n",
    "sampled_train1=train.iloc[np.random.choice(total_index,len(train[train.loan_status==1]),replace=False)]\n",
    "sampled_train1=sampled_train1.append(train[train.loan_status==1])\n",
    "sampled_train1=sampled_train1.iloc[np.random.permutation(len(sampled_train1))]\n",
    "\n",
    "total_index=list(set(total_index)-set(list(sampled_train1.index)))"
   ]
  },
  {
   "cell_type": "code",
   "execution_count": null,
   "metadata": {
    "collapsed": true
   },
   "outputs": [],
   "source": [
    "# lr=ensemble.RandomForestClassifier(n_estimators=50,random_state=2016)\n",
    "# lr.fit(x_train,y_train)\n",
    "# cv=lr.predict_proba(x_cv)[:,1]\n",
    "\n",
    "# lst=lr.predict_proba(test[features])[:,1]\n",
    "# print(metrics.log_loss(y_cv,lr.predict_proba(x_cv)[:,1]))\n",
    "# cv_score=lr.feature_importances_"
   ]
  },
  {
   "cell_type": "code",
   "execution_count": null,
   "metadata": {
    "collapsed": true,
    "deletable": true,
    "editable": true
   },
   "outputs": [],
   "source": [
    "x_train,x_cv,y_train,y_cv=cross_validation.train_test_split(train[features],train.loan_status,random_state=0)\n",
    "\n",
    "dtrain=xgb.DMatrix(x_train.values,y_train)\n",
    "dvalid=xgb.DMatrix(x_cv.values,y_cv)\n",
    "dtest=xgb.DMatrix(test[features].values)\n",
    "watchlist = [ (dtrain, 'train'),(dvalid, 'cv')]\n",
    "\n",
    "gbm=xgb.train(params,dtrain,6000,evals=watchlist,early_stopping_rounds=50,verbose_eval=1);\n",
    "cv=(gbm.predict(dvalid))\n",
    "lst=(gbm.predict(dtest))"
   ]
  },
  {
   "cell_type": "code",
   "execution_count": null,
   "metadata": {
    "collapsed": true,
    "deletable": true,
    "editable": true
   },
   "outputs": [],
   "source": [
    "lgb_train = lgb.Dataset(x_train, y_train)\n",
    "lgb_eval = lgb.Dataset(x_cv, y_cv, reference=lgb_train)\n",
    "gbm = lgb.train(params_lgb,lgb_train,num_boost_round=6000,valid_sets=lgb_eval,early_stopping_rounds=50)"
   ]
  },
  {
   "cell_type": "code",
   "execution_count": null,
   "metadata": {
    "collapsed": true,
    "deletable": true,
    "editable": true
   },
   "outputs": [],
   "source": [
    "df_imp=pd.DataFrame(list(gbm.get_score().items()),columns=['feature','importance'])\n",
    "df_imp.feature=df_imp.feature.apply(lambda x: features[last_week(x)])\n",
    "df_imp.sort(columns='importance',ascending=0,inplace=1)"
   ]
  },
  {
   "cell_type": "code",
   "execution_count": 61,
   "metadata": {
    "collapsed": false,
    "deletable": true,
    "editable": true
   },
   "outputs": [],
   "source": [
    "# cv_lgb=gbm.predict(x_cv)\n",
    "lst_lgb=gbm.predict(test[features])"
   ]
  },
  {
   "cell_type": "code",
   "execution_count": 54,
   "metadata": {
    "collapsed": true,
    "deletable": true,
    "editable": true
   },
   "outputs": [],
   "source": [
    "df=pd.DataFrame()\n",
    "df['xgb']=cv\n",
    "df['lgb']=cv_lgb"
   ]
  },
  {
   "cell_type": "code",
   "execution_count": 64,
   "metadata": {
    "collapsed": true,
    "deletable": true,
    "editable": true
   },
   "outputs": [],
   "source": [
    "df['loan_status']=y_cv.values"
   ]
  },
  {
   "cell_type": "code",
   "execution_count": 71,
   "metadata": {
    "collapsed": false,
    "deletable": true,
    "editable": true
   },
   "outputs": [
    {
     "data": {
      "text/plain": [
       "0.98121848186411154"
      ]
     },
     "execution_count": 71,
     "metadata": {},
     "output_type": "execute_result"
    }
   ],
   "source": [
    "metrics.roc_auc_score(y_cv,(df.xgb+df.lgb)/2)"
   ]
  },
  {
   "cell_type": "code",
   "execution_count": 66,
   "metadata": {
    "collapsed": true,
    "deletable": true,
    "editable": true
   },
   "outputs": [],
   "source": [
    "df_test=pd.DataFrame()\n",
    "df_test['xgb']=lst\n",
    "df_test['lgb']=lst_lgb"
   ]
  },
  {
   "cell_type": "code",
   "execution_count": 24,
   "metadata": {
    "collapsed": true,
    "deletable": true,
    "editable": true
   },
   "outputs": [],
   "source": [
    "def model(train,test,features,params,isknn,islr,):    \n",
    "    cv=[]\n",
    "    truth=[]\n",
    "    cv_scores=[]\n",
    "    lst=[]\n",
    "#     x_train,y_train,x_cv,y_cv=get_data(train,features)\n",
    "    skf=cross_validation.StratifiedKFold(train.loan_status,n_folds=5,random_state=0)\n",
    "    for idx1,idx2 in skf:\n",
    "        \n",
    "        x_train,x_cv=train[features].iloc[idx1],train[features].iloc[idx2]\n",
    "        y_train,y_cv=train.loan_status.iloc[idx1],train.loan_status.iloc[idx2]\n",
    "        truth.extend(y_cv)\n",
    "       \n",
    "        if isknn:\n",
    "            lr=ensemble.RandomForestClassifier(n_estimators=70,random_state=2016)\n",
    "            lr.fit(x_train,y_train)\n",
    "            cv.extend(lr.predict_proba(x_cv)[:,1])\n",
    "            \n",
    "            lst.append(lr.predict_proba(test[features])[:,1])\n",
    "            print(metrics.roc_auc_score(y_cv,lr.predict_proba(x_cv)[:,1]))\n",
    "            cv_scores.append(lr.feature_importances_)\n",
    "\n",
    "\n",
    "\n",
    "        elif islr:\n",
    "\n",
    "            lr=neighbors.KNeighborsClassifier(n_neighbors=10,n_jobs=3)\n",
    "            lr.fit(x_train,y_train)\n",
    "            cv.extend(lr.predict_proba(x_cv)[:,1])\n",
    "            \n",
    "            lst.append(lr.predict_proba(test[features])[:,1])\n",
    "            print(metrics.roc_auc_score(y_cv,lr.predict_proba(x_cv)[:,1]))\n",
    "            cv_scores.append(np.absolute(lr.coef_))\n",
    "    \n",
    "            \n",
    "        else:\n",
    "\n",
    "            dtrain=xgb.DMatrix(x_train.values,y_train)\n",
    "            dvalid=xgb.DMatrix(x_cv.values,y_cv)\n",
    "            dtest=xgb.DMatrix(test[features].values)\n",
    "            watchlist = [ (dtrain, 'train'),(dvalid, 'cv')]\n",
    "\n",
    "            gbm=xgb.train(params,dtrain,6000,evals=watchlist,early_stopping_rounds=30,verbose_eval=.1);\n",
    "            cv.extend(gbm.predict(dvalid))\n",
    "            cv_scores.append(metrics.log_loss(y_cv,gbm.predict(dvalid)))\n",
    "            lst.append(gbm.predict(dtest))\n",
    "    print ('Overall',metrics.roc_auc_score(truth,np.array(cv)))\n",
    "    return cv,lst,np.average(cv_scores,axis=0),truth\n"
   ]
  },
  {
   "cell_type": "code",
   "execution_count": null,
   "metadata": {
    "collapsed": true,
    "deletable": true,
    "editable": true
   },
   "outputs": [],
   "source": [
    "output=model(train,test,features,params,0,0)"
   ]
  },
  {
   "cell_type": "code",
   "execution_count": null,
   "metadata": {
    "collapsed": true,
    "deletable": true,
    "editable": true
   },
   "outputs": [],
   "source": [
    "cv_preds['knn']=output[0]\n",
    "test_preds['knn']=np.average(output[1],axis=0)"
   ]
  },
  {
   "cell_type": "code",
   "execution_count": null,
   "metadata": {
    "collapsed": true,
    "deletable": true,
    "editable": true
   },
   "outputs": [],
   "source": [
    "cv_preds=pd.read_csv('cv.csv')\n",
    "test_preds=pd.read_csv('test.csv')"
   ]
  },
  {
   "cell_type": "code",
   "execution_count": 43,
   "metadata": {
    "collapsed": true,
    "deletable": true,
    "editable": true
   },
   "outputs": [],
   "source": [
    "# cv_preds=pd.DataFrame()\n",
    "# test_preds=pd.DataFrame()\n",
    "\n",
    "# cv_preds['xgb_1']=output[0]\n",
    "# cv_preds['loan_status']=output[-1]\n",
    "# test_preds['xgb_1']=output[1]"
   ]
  },
  {
   "cell_type": "code",
   "execution_count": 47,
   "metadata": {
    "collapsed": true,
    "deletable": true,
    "editable": true
   },
   "outputs": [],
   "source": [
    "cv_preds['rf_1']=output[0]\n",
    "test_preds['rf_1']=np.average(output[1],axis=0)"
   ]
  },
  {
   "cell_type": "code",
   "execution_count": 73,
   "metadata": {
    "collapsed": true,
    "deletable": true,
    "editable": true
   },
   "outputs": [],
   "source": [
    "ls=[1 if x>.5 else 0 for x in cv_preds.xgb_1]"
   ]
  },
  {
   "cell_type": "code",
   "execution_count": 70,
   "metadata": {
    "collapsed": false,
    "deletable": true,
    "editable": true
   },
   "outputs": [],
   "source": [
    "# output=model(train,test,features,params,0,1)\n",
    "cv_preds['rf_1']=output[0]\n",
    "\n",
    "test_preds_2['rf_1']=np.average(output[1],axis=0)"
   ]
  },
  {
   "cell_type": "code",
   "execution_count": 23,
   "metadata": {
    "collapsed": false,
    "deletable": true,
    "editable": true
   },
   "outputs": [],
   "source": [
    "results=pd.DataFrame()\n",
    "results['member_id']=test.member_id\n",
    "results['loan_status']=np.average(output[1],axis=0)\n",
    "results.to_csv('output.csv',index=0)"
   ]
  }
 ],
 "metadata": {
  "anaconda-cloud": {},
  "kernelspec": {
   "display_name": "Python 2",
   "language": "python",
   "name": "python2"
  },
  "language_info": {
   "codemirror_mode": {
    "name": "ipython",
    "version": 2
   },
   "file_extension": ".py",
   "mimetype": "text/x-python",
   "name": "python",
   "nbconvert_exporter": "python",
   "pygments_lexer": "ipython2",
   "version": "2.7.13"
  }
 },
 "nbformat": 4,
 "nbformat_minor": 0
}
